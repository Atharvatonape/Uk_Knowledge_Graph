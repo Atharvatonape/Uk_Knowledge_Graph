{
  "cells": [
    {
      "cell_type": "markdown",
      "source": [
        "# Custom NER (ML NER)"
      ],
      "metadata": {
        "id": "pte4SIhb6XBi"
      }
    },
    {
      "cell_type": "markdown",
      "source": [
        "## #1. Setup development environment"
      ],
      "metadata": {
        "id": "YuOrCyv33dD8"
      }
    },
    {
      "cell_type": "markdown",
      "source": [
        "### Update & import Python modules"
      ],
      "metadata": {
        "id": "x5nQrrW56AvX"
      }
    },
    {
      "cell_type": "code",
      "source": [
        "# install and download spaCy related modules\n",
        "!pip install --upgrade spacy\n",
        "!python -m spacy download en_core_web_lg\n",
        "\n",
        "# spaCy\n",
        "import spacy\n",
        "from spacy.tokens import DocBin\n",
        "\n",
        "# Google Drive\n",
        "from google.colab import drive\n",
        "\n",
        "# Firebase/Firestore\n",
        "import firebase_admin\n",
        "from firebase_admin import credentials\n",
        "from firebase_admin import firestore\n",
        "\n",
        "# general Python modules\n",
        "import json\n",
        "import datetime\n",
        "import requests\n",
        "import csv\n",
        "import random\n",
        "import warnings\n",
        "from collections import Counter\n",
        "from pprint import pprint"
      ],
      "metadata": {
        "id": "KO2xzpIn3bx5"
      },
      "execution_count": null,
      "outputs": []
    },
    {
      "cell_type": "markdown",
      "source": [
        "### Get access to Firebase and Drive"
      ],
      "metadata": {
        "id": "uTaktcWqxg2o"
      }
    },
    {
      "cell_type": "code",
      "source": [
        "# remount drive, forced if needed\n",
        "drive.mount(\"/content/gdrive/\", force_remount = True)\n",
        "print(\"Stablished access to Google Drive\")\n",
        "\n",
        "# initialize Drive path\n",
        "DRIVE_PATH = \"/content/gdrive/My Drive\"\n",
        "\n",
        "# open Firebase credentials\n",
        "with open(DRIVE_PATH + \"/information_extraction/credentials/firebase_credentials.json\") as f:\n",
        "  credential = json.load(f)\n",
        "credential = credentials.Certificate(credential)\n",
        "\n",
        "# create Firestore database instance\n",
        "firebase_admin.initialize_app(credential)\n",
        "db = firestore.client()\n",
        "print(\"Stablished access to Firestore\")"
      ],
      "metadata": {
        "colab": {
          "base_uri": "https://localhost:8080/"
        },
        "id": "Cg1Wpiefq8DK",
        "outputId": "2baf3b6d-c654-4a16-d431-469b2e0edf5a"
      },
      "execution_count": null,
      "outputs": [
        {
          "output_type": "stream",
          "name": "stdout",
          "text": [
            "Mounted at /content/gdrive/\n",
            "Stablished access to Google Drive\n",
            "Stablished access to Firestore\n"
          ]
        }
      ]
    },
    {
      "cell_type": "markdown",
      "source": [
        "## #2. Train Custom NER model"
      ],
      "metadata": {
        "id": "Q6mQ1f51D_HI"
      }
    },
    {
      "cell_type": "code",
      "source": [
        "with open(DRIVE_PATH + \"/ie_course/output/joe_biden_ner_corpus.json\") as f:\n",
        "  TRAIN_DATA = json.load(f)\n",
        "\n",
        "def convert(TRAIN_DATA, output_name):\n",
        "  nlp = spacy.blank(\"en\") # create a blank NLP pipeline\n",
        "  doc_bin = DocBin()\n",
        "  for text, annot in TRAIN_DATA:\n",
        "    doc = nlp.make_doc(text)\n",
        "    ents = []\n",
        "    for start, end, label in annot[\"entities\"]:\n",
        "      span = doc.char_span(start, end, label=label)\n",
        "      if not span:\n",
        "        msg = f\"Skipping entity [{start}, {end}, {label}] in the following text because the character span '{doc.text[start:end]}' does not align with token boundaries:\\n\\n{repr(text)}\\n\"\n",
        "        warnings.warn(msg)\n",
        "      else:\n",
        "        ents.append(span)\n",
        "    doc.ents = ents\n",
        "    doc_bin.add(doc)\n",
        "  doc_bin.to_disk(DRIVE_PATH + f\"/ie_course/output/ml_custom_ner/{output_name}\")\n",
        "\n",
        "convert(TRAIN_DATA, \"train.spacy\")\n",
        "print(\"Saved trained NER component in pipeline\")\n",
        "# convert(TRAIN_DATA, \"valid.spacy\")\n",
        "# print(\"Saved trained (validated) NER component in pipeline\")"
      ],
      "metadata": {
        "id": "4L-bySM9g6ua",
        "colab": {
          "base_uri": "https://localhost:8080/"
        },
        "outputId": "f4a3eef3-9446-4114-8008-cd591f6093f3"
      },
      "execution_count": null,
      "outputs": [
        {
          "output_type": "stream",
          "name": "stdout",
          "text": [
            "Saved trained NER component in pipeline\n"
          ]
        }
      ]
    }
  ],
  "metadata": {
    "colab": {
      "provenance": []
    },
    "kernelspec": {
      "display_name": "Python 3",
      "name": "python3"
    },
    "language_info": {
      "name": "python"
    }
  },
  "nbformat": 4,
  "nbformat_minor": 0
}